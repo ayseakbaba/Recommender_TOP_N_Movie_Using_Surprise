{
  "nbformat": 4,
  "nbformat_minor": 0,
  "metadata": {
    "colab": {
      "provenance": [],
      "gpuType": "T4",
      "authorship_tag": "ABX9TyN5EIaPa7xV2vJgjnm+H8R9",
      "include_colab_link": true
    },
    "kernelspec": {
      "name": "python3",
      "display_name": "Python 3"
    },
    "language_info": {
      "name": "python"
    },
    "accelerator": "GPU"
  },
  "cells": [
    {
      "cell_type": "markdown",
      "metadata": {
        "id": "view-in-github",
        "colab_type": "text"
      },
      "source": [
        "<a href=\"https://colab.research.google.com/github/ayseakbaba/Recommender_TOP_N_Movie_Using_Surprise/blob/main/Recommender_TOP_N_Movie_Using_Surprise.ipynb\" target=\"_parent\"><img src=\"https://colab.research.google.com/assets/colab-badge.svg\" alt=\"Open In Colab\"/></a>"
      ]
    },
    {
      "cell_type": "markdown",
      "source": [
        "##Öneri Sistemlerine Giriş"
      ],
      "metadata": {
        "id": "nqrRWZUNI1Bb"
      }
    },
    {
      "cell_type": "markdown",
      "source": [
        "Öneri sistemleri, sizin sistemde yapmış olduğunuz aksiyonlara bağlı olarak sistem tarafından bir kullanıcı profilinizin oluşmasını ve bu profile uygun beğenebileceğiniz içerikleri sizlerin önüne getirmeyi sağlayan bir sistemdir özetle. Bu çalışma defterimde öneri sistemlerinin son dönemlerde en popüler konularından biri olan en iyi N adet içeriği bir araya getiren bir TOP-N üretmeyi hedefliyorum."
      ],
      "metadata": {
        "id": "i7dli8rpJJQM"
      }
    },
    {
      "cell_type": "markdown",
      "source": [
        "Bunun için Python dilinde çeşitli kütüphaneler bulunmaktadır. Bu kütüphanelerden biri Surprise'dır. Bugünkü projemizde bunu kullanacağız. Bu kütüphane pandas ya da numpy gibi direkt import edilememektedir. Bunun için öncelikle pip komutunu kullanarak bu kütüphaneyi Colab' a eklemeniz gerekmektedir."
      ],
      "metadata": {
        "id": "c1SURNrxJ7LN"
      }
    },
    {
      "cell_type": "code",
      "execution_count": 34,
      "metadata": {
        "colab": {
          "base_uri": "https://localhost:8080/"
        },
        "id": "1pGU9C-hDf76",
        "outputId": "6c4f83f2-829b-42b4-83e5-f39c18c49e59"
      },
      "outputs": [
        {
          "output_type": "stream",
          "name": "stdout",
          "text": [
            "Requirement already satisfied: scikit-surprise in /usr/local/lib/python3.10/dist-packages (1.1.4)\n",
            "Requirement already satisfied: joblib>=1.2.0 in /usr/local/lib/python3.10/dist-packages (from scikit-surprise) (1.4.2)\n",
            "Requirement already satisfied: numpy>=1.19.5 in /usr/local/lib/python3.10/dist-packages (from scikit-surprise) (1.26.4)\n",
            "Requirement already satisfied: scipy>=1.6.0 in /usr/local/lib/python3.10/dist-packages (from scikit-surprise) (1.13.1)\n"
          ]
        }
      ],
      "source": [
        "!pip install scikit-surprise"
      ]
    },
    {
      "cell_type": "markdown",
      "source": [
        "Kütüphaneyi ekledikten sonra proje boyunca ihtiyacımız olacak olan kütüphane ve metotları import ediyoruz."
      ],
      "metadata": {
        "id": "7aS708WOLX4J"
      }
    },
    {
      "cell_type": "code",
      "source": [
        "import os\n",
        "import pandas as pd\n",
        "from surprise import Dataset, SVD, SVDpp, NMF, SlopeOne\n",
        "from surprise import accuracy\n",
        "from surprise.model_selection import train_test_split\n",
        "from collections import defaultdict"
      ],
      "metadata": {
        "id": "YtXk7M87LJy3"
      },
      "execution_count": 35,
      "outputs": []
    },
    {
      "cell_type": "markdown",
      "source": [
        "Kütüphane eklendikten sonra bu kütüphanenin bizlere sağlamış olduğu bir kolaylık olarak Datasetlerden yararlanıyoruz. Bu projede filmlerle ilgili yapılan öneri sistemlerinde en sık kullanılan MovieLens 100k verisetini kullanacağım."
      ],
      "metadata": {
        "id": "JDtemxgaKYb1"
      }
    },
    {
      "cell_type": "code",
      "source": [
        "data = Dataset.load_builtin('ml-100k')\n"
      ],
      "metadata": {
        "id": "w-PWSsYWFmrv"
      },
      "execution_count": 36,
      "outputs": []
    },
    {
      "cell_type": "markdown",
      "source": [
        "Yapmış olduğumuz önerilerde filmin id'si yerine direkt filmin adını verebilmek için bu verisetinin içinde yer alan u.item dosyasını kullanmam gerekiyor. Bunun için de hangi klasörde olduğunu bulmaya çalıştım aşağıda."
      ],
      "metadata": {
        "id": "63Uawx39K2CV"
      }
    },
    {
      "cell_type": "code",
      "source": [
        "data_folder = os.path.expanduser('~/.surprise_data/ml-100k')\n",
        "print(f\"Dataset ml-100k is stored in: {data_folder}\")"
      ],
      "metadata": {
        "colab": {
          "base_uri": "https://localhost:8080/"
        },
        "id": "ZXQQDBd7FoWO",
        "outputId": "27d2994c-ab56-436f-abf2-096cc7bb34e7"
      },
      "execution_count": 37,
      "outputs": [
        {
          "output_type": "stream",
          "name": "stdout",
          "text": [
            "Dataset ml-100k is stored in: /root/.surprise_data/ml-100k\n"
          ]
        }
      ]
    },
    {
      "cell_type": "code",
      "source": [
        "%cd /root/.surprise_data/ml-100k"
      ],
      "metadata": {
        "colab": {
          "base_uri": "https://localhost:8080/"
        },
        "id": "EzACM0xNGAvl",
        "outputId": "3f179ff9-6577-4563-f694-229c59735044"
      },
      "execution_count": 38,
      "outputs": [
        {
          "output_type": "stream",
          "name": "stdout",
          "text": [
            "/root/.surprise_data/ml-100k\n"
          ]
        }
      ]
    },
    {
      "cell_type": "code",
      "source": [
        "%cd ml-100k"
      ],
      "metadata": {
        "colab": {
          "base_uri": "https://localhost:8080/"
        },
        "id": "WEVlW1QOGD1w",
        "outputId": "a6fc615d-a0ef-47ed-9edd-db6a7f9120e6"
      },
      "execution_count": 39,
      "outputs": [
        {
          "output_type": "stream",
          "name": "stdout",
          "text": [
            "/root/.surprise_data/ml-100k/ml-100k\n"
          ]
        }
      ]
    },
    {
      "cell_type": "code",
      "source": [
        "%ls"
      ],
      "metadata": {
        "colab": {
          "base_uri": "https://localhost:8080/"
        },
        "id": "SCwBXInVGJsz",
        "outputId": "463c65e4-3fa5-46f4-ce85-1ec8c84cdd72"
      },
      "execution_count": 40,
      "outputs": [
        {
          "output_type": "stream",
          "name": "stdout",
          "text": [
            "allbut.pl  u1.base  u2.test  u4.base  u5.test  ub.base  u.genre  u.occupation\n",
            "mku.sh     u1.test  u3.base  u4.test  ua.base  ub.test  u.info   u.user\n",
            "README     u2.base  u3.test  u5.base  ua.test  u.data   u.item\n"
          ]
        }
      ]
    },
    {
      "cell_type": "markdown",
      "source": [
        "u.item dosyasının yerini bulduktan sonra bu '|' işaretine göre split edip ilk iki sütunu alıyoruz. Bu sutünlar movieId ve movie_title değerlerini içermektedir."
      ],
      "metadata": {
        "id": "yYBuuYM7LHC1"
      }
    },
    {
      "cell_type": "code",
      "source": [
        "data_folder = os.path.expanduser('/root/.surprise_data/ml-100k/ml-100k/')\n",
        "\n",
        "# Film bilgilerini içeren dosyayı pandas ile yükleyin\n",
        "movie_info_path = os.path.join(data_folder, 'u.item')\n",
        "movie_info = pd.read_csv(movie_info_path, sep='|', encoding='latin-1', header=None)\n",
        "movie_info.columns = ['movie_id', 'movie_title'] + [str(i) for i in range(22)]\n",
        "movie_dict = dict(zip(movie_info['movie_id'], movie_info['movie_title']))"
      ],
      "metadata": {
        "id": "hTH8LdSSLRAr"
      },
      "execution_count": 41,
      "outputs": []
    },
    {
      "cell_type": "markdown",
      "source": [
        "İhtiyacımız olan bilgileri aldıktan sonra verisetini trainset ve testset olmak üzere %80 ve %20 oranlarında ikiye ayırıyoruz."
      ],
      "metadata": {
        "id": "VlWFyyZ0MRXR"
      }
    },
    {
      "cell_type": "code",
      "source": [
        "trainset, testset = train_test_split(data, test_size=0.2)"
      ],
      "metadata": {
        "id": "kp6nJk8nMgIV"
      },
      "execution_count": 42,
      "outputs": []
    },
    {
      "cell_type": "markdown",
      "source": [
        "Bu örnekte birçok farklı algoritmayı kullanmak ve bunların çıktı değerlerini karşılaştırmak istedim. Yine bu algoritmalar surprise kütüphanesinde mevcut. Bu sayede direkt çağırabiliyoruz."
      ],
      "metadata": {
        "id": "VaPvKJTmMlZQ"
      }
    },
    {
      "cell_type": "code",
      "source": [
        "algo1 = SVD()\n",
        "algo2 = SVDpp()\n",
        "algo3 = NMF()\n",
        "algo4 = SlopeOne()"
      ],
      "metadata": {
        "id": "nrkrF9YaMks-"
      },
      "execution_count": 43,
      "outputs": []
    },
    {
      "cell_type": "markdown",
      "source": [
        ".fit() metodunu kullanarak ilgili algoritmaların trainsets üzerinde eğitimlerini başlatıyoruz."
      ],
      "metadata": {
        "id": "gwMZ-zL5M565"
      }
    },
    {
      "cell_type": "code",
      "source": [
        "algo1.fit(trainset)\n",
        "algo2.fit(trainset)\n",
        "algo3.fit(trainset)\n",
        "algo4.fit(trainset)"
      ],
      "metadata": {
        "colab": {
          "base_uri": "https://localhost:8080/"
        },
        "id": "0zVl0eDgF9z4",
        "outputId": "94165615-a284-4ea0-a308-e0ffe975b30f"
      },
      "execution_count": 44,
      "outputs": [
        {
          "output_type": "execute_result",
          "data": {
            "text/plain": [
              "<surprise.prediction_algorithms.slope_one.SlopeOne at 0x7aa8f52db670>"
            ]
          },
          "metadata": {},
          "execution_count": 44
        }
      ]
    },
    {
      "cell_type": "markdown",
      "source": [
        "Eğitim sonrası algoritmalarımı kullanarak TOP-N önerebilmek için get_recommendations adında bir metot oluşturuyoruz."
      ],
      "metadata": {
        "id": "bjNKogv5NK9o"
      }
    },
    {
      "cell_type": "code",
      "source": [
        "def get_recommendations(algo, user_id, item_ids, movie_dict, top_n=5):\n",
        "    predictions = [algo.predict(user_id, iid) for iid in item_ids]\n",
        "    predictions.sort(key=lambda x: x.est, reverse=True)\n",
        "    top_predictions = predictions[:top_n]\n",
        "    return [(movie_dict[int(pred.iid)], int(pred.est)) for pred in top_predictions] #u.item' i burda kullanabilmek adına yukarıda kullanmıştık"
      ],
      "metadata": {
        "id": "gxYE8_usNJ5S"
      },
      "execution_count": 45,
      "outputs": []
    },
    {
      "cell_type": "markdown",
      "source": [
        "Şimdi bütün bu çalışmaları test edebilmemiz için aşağıdaki kodu yazıyoruz. Bu kodda user_id hangi kullanıcı için TOP-N üretilmesi isteniliyorsa onun id'si iken item_ids'deki döngü testset'teki her bir öğe (uid, iid, rating) üzerinde gezinir. Ancak, burada rating değişkeni kullanılmadığı için bu kısım _ ile gösterilmiştir. _ konvansiyonel olarak bu değerin kullanılmayacağını ifade eder.\n"
      ],
      "metadata": {
        "id": "PYf6ioZoNl_B"
      }
    },
    {
      "cell_type": "code",
      "source": [
        "user_id = str(196)\n",
        "item_ids = [iid for (uid, iid, _) in testset if uid == user_id]  # Kullanıcının izleyebileceği filmleri seç"
      ],
      "metadata": {
        "id": "Bn48jeAUGVgw"
      },
      "execution_count": 46,
      "outputs": []
    },
    {
      "cell_type": "markdown",
      "source": [
        "Bu aşamada ise yukarıda tanımlamış olduğumuz algoritmalara uygun olacak şekilde N sayıda film önerisi yapmaktadır. Eğer parametre olarak kaç filmin önerilmesi istendiği girilmezse metotta default olarak 5 ayarlanmıştır. 5 adet film önerecektir."
      ],
      "metadata": {
        "id": "M30EgbbHP2j6"
      }
    },
    {
      "cell_type": "code",
      "source": [
        "print(\"SVD Algoritmasına Göre Öneriler:\")\n",
        "print(get_recommendations(algo1, user_id, item_ids, movie_dict))\n",
        "\n",
        "print(\"\\nSVD++ Algoritmasına Göre Öneriler:\")\n",
        "print(get_recommendations(algo2, user_id, item_ids, movie_dict))\n",
        "\n",
        "print(\"\\nNMF Algoritmasına Göre Öneriler:\")\n",
        "print(get_recommendations(algo3, user_id, item_ids, movie_dict))\n",
        "\n",
        "print(\"\\nSlopeOne Algoritmasına Göre Öneriler:\")\n",
        "print(get_recommendations(algo4, user_id, item_ids, movie_dict))\n"
      ],
      "metadata": {
        "colab": {
          "base_uri": "https://localhost:8080/"
        },
        "id": "zQFwQA_xNxW6",
        "outputId": "7a68219d-1713-412c-b317-a569bcb87b0e"
      },
      "execution_count": 47,
      "outputs": [
        {
          "output_type": "stream",
          "name": "stdout",
          "text": [
            "SVD Algoritmasına Göre Öneriler:\n",
            "[('Raising Arizona (1987)', 4), ('Men in Black (1997)', 4), ('Adventures of Priscilla, Queen of the Desert, The (1994)', 3), ('That Thing You Do! (1996)', 3), ('Up in Smoke (1978)', 3)]\n",
            "\n",
            "SVD++ Algoritmasına Göre Öneriler:\n",
            "[('Adventures of Priscilla, Queen of the Desert, The (1994)', 3), ('Men in Black (1997)', 3), ('That Thing You Do! (1996)', 3), ('Raising Arizona (1987)', 3), ('Mighty Aphrodite (1995)', 3)]\n",
            "\n",
            "NMF Algoritmasına Göre Öneriler:\n",
            "[('Raising Arizona (1987)', 4), ('That Thing You Do! (1996)', 3), ('Adventures of Priscilla, Queen of the Desert, The (1994)', 3), ('Men in Black (1997)', 3), ('Mighty Aphrodite (1995)', 3)]\n",
            "\n",
            "SlopeOne Algoritmasına Göre Öneriler:\n",
            "[('Raising Arizona (1987)', 3), ('Men in Black (1997)', 3), ('Mighty Aphrodite (1995)', 3), ('Adventures of Priscilla, Queen of the Desert, The (1994)', 3), ('That Thing You Do! (1996)', 3)]\n"
          ]
        }
      ]
    },
    {
      "cell_type": "markdown",
      "source": [
        "#ÇALIŞMA PERFORMANSI"
      ],
      "metadata": {
        "id": "794TpKM7QUKE"
      }
    },
    {
      "cell_type": "markdown",
      "source": [
        "#RMSE ve MAE Hesaplamaları"
      ],
      "metadata": {
        "id": "B85PJFNDQdI0"
      }
    },
    {
      "cell_type": "code",
      "source": [
        "\n",
        "def evaluate_algorithms(algorithms, testset):\n",
        "    metrics = []\n",
        "    for algo in algorithms:\n",
        "        predictions = algo.test(testset)\n",
        "        rmse = accuracy.rmse(predictions, verbose=True)\n",
        "        mae = accuracy.mae(predictions, verbose=True)\n",
        "        metrics.append([algo.__class__.__name__, rmse, mae])\n",
        "    return metrics\n",
        "\n",
        "algorithms = [algo1, algo2, algo3, algo4]\n",
        "metrics = evaluate_algorithms(algorithms, testset)\n",
        "\n"
      ],
      "metadata": {
        "colab": {
          "base_uri": "https://localhost:8080/"
        },
        "id": "EBRw9QK4Pxl6",
        "outputId": "9eedf5fc-eb81-4639-dc94-5be9c2ac215e"
      },
      "execution_count": 48,
      "outputs": [
        {
          "output_type": "stream",
          "name": "stdout",
          "text": [
            "RMSE: 0.9353\n",
            "MAE:  0.7384\n",
            "RMSE: 0.9162\n",
            "MAE:  0.7199\n",
            "RMSE: 0.9594\n",
            "MAE:  0.7520\n",
            "RMSE: 0.9411\n",
            "MAE:  0.7399\n"
          ]
        }
      ]
    },
    {
      "cell_type": "markdown",
      "source": [
        "# Precision ve Recall hesaplamaları (k = 5)"
      ],
      "metadata": {
        "id": "mvYJme9VQ2se"
      }
    },
    {
      "cell_type": "code",
      "source": [
        "\n",
        "def precision_recall_at_k(predictions, k=5, threshold=3.5):\n",
        "    user_est_true = defaultdict(list)\n",
        "    for uid, iid, true_r, est, _ in predictions:\n",
        "        user_est_true[uid].append((est, true_r))\n",
        "\n",
        "    precisions = dict()\n",
        "    recalls = dict()\n",
        "    for uid, user_ratings in user_est_true.items():\n",
        "        user_ratings.sort(key=lambda x: x[0], reverse=True)\n",
        "        n_rel = sum((true_r >= threshold) for (_, true_r) in user_ratings)\n",
        "        n_rec_k = sum((est >= threshold) for (est, _) in user_ratings[:k])\n",
        "        n_rel_and_rec_k = sum(((true_r >= threshold) and (est >= threshold))\n",
        "                              for (est, true_r) in user_ratings[:k])\n",
        "\n",
        "        precisions[uid] = n_rel_and_rec_k / n_rec_k if n_rec_k != 0 else 1\n",
        "        recalls[uid] = n_rel_and_rec_k / n_rel if n_rel != 0 else 1\n",
        "\n",
        "    return precisions, recalls\n"
      ],
      "metadata": {
        "id": "W_oHcAprQrL4"
      },
      "execution_count": 49,
      "outputs": []
    },
    {
      "cell_type": "code",
      "source": [
        "def evaluate_precision_recall(algorithms, testset, k=5):\n",
        "    precision_recall_metrics = []\n",
        "    for algo in algorithms:\n",
        "        predictions = algo.test(testset)\n",
        "        precisions, recalls = precision_recall_at_k(predictions, k)\n",
        "\n",
        "        precision = sum(prec for prec in precisions.values()) / len(precisions)\n",
        "        recall = sum(rec for rec in recalls.values()) / len(recalls)\n",
        "\n",
        "        precision_recall_metrics.append([algo.__class__.__name__, precision, recall])\n",
        "    return precision_recall_metrics\n",
        "\n",
        "precision_recall_metrics = evaluate_precision_recall(algorithms, testset)\n"
      ],
      "metadata": {
        "id": "PrqS1GTmQrIS"
      },
      "execution_count": 50,
      "outputs": []
    },
    {
      "cell_type": "markdown",
      "source": [
        "# Tüm Metrikleri Bir Tabloda Gösterme"
      ],
      "metadata": {
        "id": "q766IlO2RNB8"
      }
    },
    {
      "cell_type": "code",
      "source": [
        "metrics_df = pd.DataFrame(metrics, columns=['Algorithm', 'RMSE', 'MAE'])\n",
        "precision_recall_df = pd.DataFrame(precision_recall_metrics, columns=['Algorithm', 'Precision@5', 'Recall@5'])\n",
        "\n",
        "final_metrics_df = pd.merge(metrics_df, precision_recall_df, on='Algorithm')\n",
        "print(\"\\nAlgoritma Performans Metrikleri:\")\n",
        "print(final_metrics_df)"
      ],
      "metadata": {
        "colab": {
          "base_uri": "https://localhost:8080/"
        },
        "id": "tYrxX7HOQrFW",
        "outputId": "f3b8d5c1-e19c-4bef-cfc0-e1e01763993a"
      },
      "execution_count": 51,
      "outputs": [
        {
          "output_type": "stream",
          "name": "stdout",
          "text": [
            "\n",
            "Algoritma Performans Metrikleri:\n",
            "  Algorithm      RMSE       MAE  Precision@5  Recall@5\n",
            "0       SVD  0.935251  0.738380     0.773383  0.439998\n",
            "1     SVDpp  0.916180  0.719930     0.792718  0.443692\n",
            "2       NMF  0.959387  0.751968     0.763503  0.423662\n",
            "3  SlopeOne  0.941119  0.739920     0.776281  0.438846\n"
          ]
        }
      ]
    }
  ]
}