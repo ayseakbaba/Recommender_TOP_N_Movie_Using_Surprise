{
  "nbformat": 4,
  "nbformat_minor": 0,
  "metadata": {
    "colab": {
      "provenance": [],
      "gpuType": "T4",
      "authorship_tag": "ABX9TyNDfbNTc5uQIhRj8w/7ENQ7",
      "include_colab_link": true
    },
    "kernelspec": {
      "name": "python3",
      "display_name": "Python 3"
    },
    "language_info": {
      "name": "python"
    },
    "accelerator": "GPU"
  },
  "cells": [
    {
      "cell_type": "markdown",
      "metadata": {
        "id": "view-in-github",
        "colab_type": "text"
      },
      "source": [
        "<a href=\"https://colab.research.google.com/github/ayseakbaba/Recommender_TOP_N_Movie_Using_Surprise/blob/main/Recommender_TOP_N_Movie_Using_Surprise.ipynb\" target=\"_parent\"><img src=\"https://colab.research.google.com/assets/colab-badge.svg\" alt=\"Open In Colab\"/></a>"
      ]
    },
    {
      "cell_type": "code",
      "execution_count": 1,
      "metadata": {
        "colab": {
          "base_uri": "https://localhost:8080/"
        },
        "id": "1pGU9C-hDf76",
        "outputId": "8837b317-7a2b-493a-f30b-fbc60faa1ccc"
      },
      "outputs": [
        {
          "output_type": "stream",
          "name": "stdout",
          "text": [
            "Collecting scikit-surprise\n",
            "  Downloading scikit_surprise-1.1.4.tar.gz (154 kB)\n",
            "\u001b[?25l     \u001b[90m━━━━━━━━━━━━━━━━━━━━━━━━━━━━━━━━━━━━━━━━\u001b[0m \u001b[32m0.0/154.4 kB\u001b[0m \u001b[31m?\u001b[0m eta \u001b[36m-:--:--\u001b[0m\r\u001b[2K     \u001b[90m━━━━━━━━━━━━━━━━━━━━━━━━━━━━━━━━━━━━━━━━\u001b[0m \u001b[32m154.4/154.4 kB\u001b[0m \u001b[31m5.4 MB/s\u001b[0m eta \u001b[36m0:00:00\u001b[0m\n",
            "\u001b[?25h  Installing build dependencies ... \u001b[?25l\u001b[?25hdone\n",
            "  Getting requirements to build wheel ... \u001b[?25l\u001b[?25hdone\n",
            "  Preparing metadata (pyproject.toml) ... \u001b[?25l\u001b[?25hdone\n",
            "Requirement already satisfied: joblib>=1.2.0 in /usr/local/lib/python3.10/dist-packages (from scikit-surprise) (1.4.2)\n",
            "Requirement already satisfied: numpy>=1.19.5 in /usr/local/lib/python3.10/dist-packages (from scikit-surprise) (1.26.4)\n",
            "Requirement already satisfied: scipy>=1.6.0 in /usr/local/lib/python3.10/dist-packages (from scikit-surprise) (1.13.1)\n",
            "Building wheels for collected packages: scikit-surprise\n",
            "  Building wheel for scikit-surprise (pyproject.toml) ... \u001b[?25l\u001b[?25hdone\n",
            "  Created wheel for scikit-surprise: filename=scikit_surprise-1.1.4-cp310-cp310-linux_x86_64.whl size=2357272 sha256=514852ff905ea89b0054b85e36ef463afc412363b2fc84ad9d02dd15af283807\n",
            "  Stored in directory: /root/.cache/pip/wheels/4b/3f/df/6acbf0a40397d9bf3ff97f582cc22fb9ce66adde75bc71fd54\n",
            "Successfully built scikit-surprise\n",
            "Installing collected packages: scikit-surprise\n",
            "Successfully installed scikit-surprise-1.1.4\n"
          ]
        }
      ],
      "source": [
        "!pip install scikit-surprise"
      ]
    },
    {
      "cell_type": "code",
      "source": [
        "data = Dataset.load_builtin('ml-100k')\n"
      ],
      "metadata": {
        "id": "w-PWSsYWFmrv"
      },
      "execution_count": 7,
      "outputs": []
    },
    {
      "cell_type": "code",
      "source": [
        "data_folder = os.path.expanduser('~/.surprise_data/ml-100k')\n",
        "print(f\"Dataset ml-100k is stored in: {data_folder}\")"
      ],
      "metadata": {
        "colab": {
          "base_uri": "https://localhost:8080/"
        },
        "id": "ZXQQDBd7FoWO",
        "outputId": "d3a0c3b9-aad6-4aa9-9e12-6b134a5a0875"
      },
      "execution_count": 9,
      "outputs": [
        {
          "output_type": "stream",
          "name": "stdout",
          "text": [
            "Dataset ml-100k is stored in: /root/.surprise_data/ml-100k\n"
          ]
        }
      ]
    },
    {
      "cell_type": "code",
      "source": [
        "%cd /root/.surprise_data/ml-100k"
      ],
      "metadata": {
        "colab": {
          "base_uri": "https://localhost:8080/"
        },
        "id": "EzACM0xNGAvl",
        "outputId": "552d183d-8b2a-4b3e-9c07-9eec9405770b"
      },
      "execution_count": 10,
      "outputs": [
        {
          "output_type": "stream",
          "name": "stdout",
          "text": [
            "/root/.surprise_data/ml-100k\n"
          ]
        }
      ]
    },
    {
      "cell_type": "code",
      "source": [
        "%cd ml-100k"
      ],
      "metadata": {
        "colab": {
          "base_uri": "https://localhost:8080/"
        },
        "id": "WEVlW1QOGD1w",
        "outputId": "8b3771d4-5ddd-40d2-e794-24feff7aab32"
      },
      "execution_count": 12,
      "outputs": [
        {
          "output_type": "stream",
          "name": "stdout",
          "text": [
            "/root/.surprise_data/ml-100k/ml-100k\n"
          ]
        }
      ]
    },
    {
      "cell_type": "code",
      "source": [
        "%ls"
      ],
      "metadata": {
        "colab": {
          "base_uri": "https://localhost:8080/"
        },
        "id": "SCwBXInVGJsz",
        "outputId": "0417d148-908c-4b69-cedc-4343b4dc304d"
      },
      "execution_count": 13,
      "outputs": [
        {
          "output_type": "stream",
          "name": "stdout",
          "text": [
            "allbut.pl  u1.base  u2.test  u4.base  u5.test  ub.base  u.genre  u.occupation\n",
            "mku.sh     u1.test  u3.base  u4.test  ua.base  ub.test  u.info   u.user\n",
            "README     u2.base  u3.test  u5.base  ua.test  u.data   u.item\n"
          ]
        }
      ]
    },
    {
      "cell_type": "code",
      "source": [
        "import os\n",
        "import pandas as pd\n",
        "from surprise import Dataset, SVD, SVDpp, NMF, SlopeOne\n",
        "from surprise import accuracy\n",
        "from surprise.model_selection import train_test_split\n",
        "\n",
        "# Veri kümesini yükleme\n",
        "data = Dataset.load_builtin('ml-100k')\n",
        "\n",
        "# MovieLens verilerinin bulunduğu klasörü bulma\n",
        "data_folder = os.path.expanduser('/root/.surprise_data/ml-100k/ml-100k/')\n",
        "\n",
        "# Film bilgilerini içeren dosyayı pandas ile yükleyin\n",
        "movie_info_path = os.path.join(data_folder, 'u.item')\n",
        "movie_info = pd.read_csv(movie_info_path, sep='|', encoding='latin-1', header=None)\n",
        "movie_info.columns = ['movie_id', 'movie_title'] + [str(i) for i in range(22)]  # Sadece ilk iki sütunu kullanacağız\n",
        "movie_dict = dict(zip(movie_info['movie_id'], movie_info['movie_title']))\n",
        "\n",
        "# Eğitim ve test setlerini oluşturma\n",
        "trainset, testset = train_test_split(data, test_size=0.2)\n",
        "\n",
        "# Algoritmaları tanımlama\n",
        "algo1 = SVD()\n",
        "algo2 = SVDpp()\n",
        "algo3 = NMF()\n",
        "algo4 = SlopeOne()\n",
        "\n",
        "# Algoritmaları eğitim seti üzerinde eğitme\n",
        "algo1.fit(trainset)\n",
        "algo2.fit(trainset)\n",
        "algo3.fit(trainset)\n",
        "algo4.fit(trainset)\n",
        "\n"
      ],
      "metadata": {
        "colab": {
          "base_uri": "https://localhost:8080/"
        },
        "id": "0zVl0eDgF9z4",
        "outputId": "d014ea03-2cfd-4a08-95d2-f53633f84313"
      },
      "execution_count": 14,
      "outputs": [
        {
          "output_type": "execute_result",
          "data": {
            "text/plain": [
              "<surprise.prediction_algorithms.slope_one.SlopeOne at 0x7aa9389f7370>"
            ]
          },
          "metadata": {},
          "execution_count": 14
        }
      ]
    },
    {
      "cell_type": "code",
      "source": [
        "# Kullanıcıya uygun önerilerde bulunma\n",
        "user_id = str(196)  # Öneri yapılacak kullanıcı ID'si\n",
        "item_ids = [iid for (uid, iid, _) in testset if uid == user_id]  # Kullanıcının izleyebileceği filmleri seç\n",
        "\n",
        "def get_recommendations(algo, user_id, item_ids, movie_dict, top_n=5):\n",
        "    predictions = [algo.predict(user_id, iid) for iid in item_ids]\n",
        "    predictions.sort(key=lambda x: x.est, reverse=True)\n",
        "    top_predictions = predictions[:top_n]\n",
        "    # Film isimlerini kullanarak öneriler oluştur\n",
        "    return [(movie_dict[int(pred.iid)], pred.est) for pred in top_predictions]\n",
        "\n",
        "# Her algoritma için film önerileri\n",
        "print(\"SVD Algoritmasına Göre Öneriler:\")\n",
        "print(get_recommendations(algo1, user_id, item_ids, movie_dict))\n",
        "\n",
        "print(\"\\nSVD++ Algoritmasına Göre Öneriler:\")\n",
        "print(get_recommendations(algo2, user_id, item_ids, movie_dict))\n",
        "\n",
        "print(\"\\nNMF Algoritmasına Göre Öneriler:\")\n",
        "print(get_recommendations(algo3, user_id, item_ids, movie_dict))\n",
        "\n",
        "print(\"\\nSlopeOne Algoritmasına Göre Öneriler:\")\n",
        "print(get_recommendations(algo4, user_id, item_ids, movie_dict))\n"
      ],
      "metadata": {
        "colab": {
          "base_uri": "https://localhost:8080/"
        },
        "id": "Bn48jeAUGVgw",
        "outputId": "0ccb63c9-1326-450b-ebbf-8f2f15d335f0"
      },
      "execution_count": 15,
      "outputs": [
        {
          "output_type": "stream",
          "name": "stdout",
          "text": [
            "SVD Algoritmasına Göre Öneriler:\n",
            "[('Kolya (1996)', 4.105689715210568), ('Boogie Nights (1997)', 4.003106639113343), ('Mrs. Brown (Her Majesty, Mrs. Brown) (1997)', 3.98265604455645), ('Raising Arizona (1987)', 3.921370291639603), ('Groundhog Day (1993)', 3.8591564513879684)]\n",
            "\n",
            "SVD++ Algoritmasına Göre Öneriler:\n",
            "[('Mrs. Brown (Her Majesty, Mrs. Brown) (1997)', 4.255964891812107), ('Kolya (1996)', 4.163588377660774), ('Raising Arizona (1987)', 3.9704035852764727), ('Mighty Aphrodite (1995)', 3.6923498468590483), ('Boogie Nights (1997)', 3.6417198636792607)]\n",
            "\n",
            "NMF Algoritmasına Göre Öneriler:\n",
            "[('Boogie Nights (1997)', 5), ('Mrs. Brown (Her Majesty, Mrs. Brown) (1997)', 4.542564746376569), ('Kolya (1996)', 4.508696878795947), ('Raising Arizona (1987)', 4.395563112445967), ('Van, The (1996)', 4.366060645983848)]\n",
            "\n",
            "SlopeOne Algoritmasına Göre Öneriler:\n",
            "[('Raising Arizona (1987)', 4.080328248427947), ('Mrs. Brown (Her Majesty, Mrs. Brown) (1997)', 4.076112413319115), ('Kolya (1996)', 4.045203109376537), ('Groundhog Day (1993)', 3.9348076080527474), ('Boogie Nights (1997)', 3.654979882296462)]\n"
          ]
        }
      ]
    }
  ]
}